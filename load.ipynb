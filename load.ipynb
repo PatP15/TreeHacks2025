{
 "cells": [
  {
   "cell_type": "code",
   "execution_count": 1,
   "metadata": {},
   "outputs": [],
   "source": [
    "import numpy as np"
   ]
  },
  {
   "cell_type": "code",
   "execution_count": 2,
   "metadata": {},
   "outputs": [
    {
     "data": {
      "text/plain": [
       "array([[-4.06301277e+00, -2.15832599e+00,  1.28733856e+00, ...,\n",
       "        -5.59552558e-03, -4.40637458e-03, -1.46322587e-02],\n",
       "       [-4.12761898e+00, -2.07218437e+00,  1.45722896e+00, ...,\n",
       "         3.22781192e-02,  2.61368873e-02, -6.08014534e-03],\n",
       "       [-4.19701084e+00, -2.08893413e+00,  1.39262275e+00, ...,\n",
       "         2.61694668e-02, -4.10582889e-02, -1.70757196e-02],\n",
       "       ...,\n",
       "       [-1.06002041e+00,  8.27916620e-01,  4.75453851e+00, ...,\n",
       "        -4.71343618e-02,  7.81093018e-03,  2.07979251e-02],\n",
       "       [-1.05762759e+00,  8.51844846e-01,  4.78564520e+00, ...,\n",
       "        -6.54603189e-02,  2.85803483e-02,  9.28800233e-02],\n",
       "       [-1.07677017e+00,  8.35095087e-01,  4.79282367e+00, ...,\n",
       "         1.23907905e-01,  4.01208144e-01,  3.16456700e-01]],\n",
       "      shape=(590, 12))"
      ]
     },
     "execution_count": 2,
     "metadata": {},
     "output_type": "execute_result"
    }
   ],
   "source": [
    "np.load('recordings/demo/raw_imu_0.npy')"
   ]
  }
 ],
 "metadata": {
  "kernelspec": {
   "display_name": "hack",
   "language": "python",
   "name": "python3"
  },
  "language_info": {
   "codemirror_mode": {
    "name": "ipython",
    "version": 3
   },
   "file_extension": ".py",
   "mimetype": "text/x-python",
   "name": "python",
   "nbconvert_exporter": "python",
   "pygments_lexer": "ipython3",
   "version": "3.10.16"
  }
 },
 "nbformat": 4,
 "nbformat_minor": 2
}
